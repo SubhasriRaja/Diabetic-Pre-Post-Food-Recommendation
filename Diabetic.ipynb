{
 "cells": [
  {
   "cell_type": "code",
   "execution_count": 1,
   "metadata": {},
   "outputs": [],
   "source": [
    "import pandas as pd\n",
    "import numpy as np\n",
    "import matplotlib.pyplot as plt\n",
    "from scipy.integrate import odeint"
   ]
  },
  {
   "cell_type": "code",
   "execution_count": 2,
   "metadata": {},
   "outputs": [],
   "source": [
    "def diabetic(y,t,ui,d):\n",
    "    \n",
    "    g = y[0]                # blood glucose (mg/dL)\n",
    "    x = y[1]                # remote insulin (micro-u/ml)\n",
    "    i = y[2]                # insulin (micro-u/ml)\n",
    "    q1 = y[3]\n",
    "    q2 = y[4]\n",
    "    g_gut = y[5]            # gut blood glucose (mg/dl)\n",
    "\n",
    "    # Parameters:\n",
    "    gb    = 291.0           # Basal Blood Glucose (mg/dL)\n",
    "    p1    = 3.17e-2         # 1/min\n",
    "    p2    = 1.23e-2         # 1/min\n",
    "    si    = 2.9e-2          # 1/min * (mL/micro-U)\n",
    "    ke    = 9.0e-2          # 1/min\n",
    "    kabs  = 1.2e-2          # 1/min\n",
    "    kemp  = 1.8e-1          # 1/min\n",
    "    f     = 8.00e-1         # L\n",
    "    vi    = 12.0            # L\n",
    "    vg    = 12.0            # L\n",
    "\n",
    "    # Compute ydot:\n",
    "    dydt = np.empty(6)\n",
    "    dydt[0] = -p1*(g-gb) - si*x*g + f*kabs/vg * g_gut + f/vg * d\n",
    "    dydt[1] =  p2*(i-x) # remote insulin compartment dynamics\n",
    "    dydt[2] = -ke*i + ui # insulin dynamics\n",
    "    dydt[3] = ui - kemp * q1\n",
    "    dydt[4] = -kemp*(q2-q1)\n",
    "    dydt[5] = kemp*q2 - kabs*g_gut\n",
    "\n",
    "    # convert from minutes to hours\n",
    "    dydt = dydt*60\n",
    "    return dydt\n"
   ]
  },
  {
   "cell_type": "code",
   "execution_count": 3,
   "metadata": {},
   "outputs": [],
   "source": [
    "y0 = np.array([76.22, 33.33, 33.33,16.67,16.67,250.0])"
   ]
  },
  {
   "cell_type": "code",
   "execution_count": 4,
   "metadata": {},
   "outputs": [],
   "source": [
    "u_ss = 3.0 "
   ]
  },
  {
   "cell_type": "code",
   "execution_count": 5,
   "metadata": {},
   "outputs": [],
   "source": [
    "d_ss = 1000.0 "
   ]
  },
  {
   "cell_type": "code",
   "execution_count": 6,
   "metadata": {},
   "outputs": [],
   "source": [
    "tf = 24      \n",
    "ns = tf*6+1 \n"
   ]
  },
  {
   "cell_type": "code",
   "execution_count": 7,
   "metadata": {},
   "outputs": [],
   "source": [
    "t = np.linspace(0,tf,ns)"
   ]
  },
  {
   "cell_type": "code",
   "execution_count": 8,
   "metadata": {},
   "outputs": [],
   "source": [
    "G = np.ones(len(t)) * y0[0]\n",
    "X = np.ones(len(t)) * y0[1]\n",
    "I = np.ones(len(t)) * y0[2]\n",
    "u = np.ones(len(t)) * u_ss\n",
    "d = np.ones(len(t)) * d_ss"
   ]
  },
  {
   "cell_type": "code",
   "execution_count": 9,
   "metadata": {},
   "outputs": [],
   "source": [
    "u[10:] = 2.8"
   ]
  },
  {
   "cell_type": "code",
   "execution_count": 10,
   "metadata": {},
   "outputs": [],
   "source": [
    "meals = [1259,1451,1632,1632,1468,1314,1240,1187,1139,1116,\\\n",
    "          1099,1085,1077,1071,1066,1061,1057,1053,1046,1040,\\\n",
    "          1034,1025,1018,1010,1000,993,985,976,970,964,958,\\\n",
    "          954,952,950,950,951,1214,1410,1556,1603,1445,1331,\\\n",
    "          1226,1173,1136,1104,1088,1078,1070,1066,1063,1061,\\\n",
    "          1059,1056,1052,1048,1044,1037,1030,1024,1014,1007,\\\n",
    "          999,989,982,975,967,962,957,953,951,950,1210,1403,\\\n",
    "          1588,1593,1434,1287,1212,1159,1112,1090,1075,1064,\\\n",
    "          1059,1057,1056,1056,1056,1055,1054,1052,1049,1045,\\\n",
    "          1041,1033,1027,1020,1011,1003,996,986]"
   ]
  },
  {
   "cell_type": "code",
   "execution_count": 11,
   "metadata": {},
   "outputs": [],
   "source": [
    "for i in range(len(meals)):\n",
    "    d[i+43] = meals[i]\n",
    "\n",
    "for i in range(len(t)-1):\n",
    "    ts = [t[i],t[i+1]]\n",
    "    y = odeint(diabetic,y0,ts,args=(u[i+1],d[i+1]))\n",
    "    G[i+1] = y[-1][0]\n",
    "    X[i+1] = y[-1][1]\n",
    "    I[i+1] = y[-1][2]\n",
    "    y0 = y[-1]"
   ]
  },
  {
   "cell_type": "code",
   "execution_count": 12,
   "metadata": {},
   "outputs": [],
   "source": [
    "data = np.vstack((t,u,G)) \n",
    "data = data.T            \n",
    "np.savetxt('data.txt',data,delimiter=',')"
   ]
  },
  {
   "cell_type": "code",
   "execution_count": 18,
   "metadata": {},
   "outputs": [
    {
     "data": {
      "text/plain": [
       "<Figure size 432x288 with 0 Axes>"
      ]
     },
     "metadata": {},
     "output_type": "display_data"
    }
   ],
   "source": [
    "plt.figure(1)\n",
    "ticks = np.linspace(0,24,13)"
   ]
  },
  {
   "cell_type": "code",
   "execution_count": 19,
   "metadata": {},
   "outputs": [
    {
     "data": {
      "text/plain": [
       "Text(0.8, 0.55, 'Dinner')"
      ]
     },
     "execution_count": 19,
     "metadata": {},
     "output_type": "execute_result"
    },
    {
     "data": {
      "image/png": "[encoded data removed]",
      "text/plain": [
       "<Figure size 432x288 with 1 Axes>"
      ]
     },
     "metadata": {
      "needs_background": "light"
     },
     "output_type": "display_data"
    }
   ],
   "source": [
    "ax=plt.subplot(3,1,2)\n",
    "ax.grid() # turn on grid\n",
    "plt.plot(t,G,'r-',linewidth=3,label='Glucose')\n",
    "plt.plot([0,44],[104,104],'k--',linewidth=2,label='Limits')\n",
    "plt.plot([0,44],[80,80],'k-',linewidth=2,label='Target')\n",
    "plt.plot([0,44],[64,64],'k--',linewidth=2)\n",
    "plt.ylabel('Glucose (mmol/L)')\n",
    "plt.legend(loc='best')\n",
    "plt.xlim([0,24])\n",
    "plt.xticks(ticks)\n",
    "plt.figtext(0.4, 0.55, 'Breakfast')\n",
    "plt.figtext(0.6, 0.55, 'Lunch')\n",
    "plt.figtext(0.8, 0.55, 'Dinner')"
   ]
  },
  {
   "cell_type": "code",
   "execution_count": 20,
   "metadata": {},
   "outputs": [
    {
     "data": {
      "text/plain": [
       "([<matplotlib.axis.XTick at 0x14f6c5d9460>,\n",
       "  <matplotlib.axis.XTick at 0x14f6c65daf0>,\n",
       "  <matplotlib.axis.XTick at 0x14f6c65a670>,\n",
       "  <matplotlib.axis.XTick at 0x14f6c684f40>,\n",
       "  <matplotlib.axis.XTick at 0x14f6c68b490>,\n",
       "  <matplotlib.axis.XTick at 0x14f6c68b9a0>,\n",
       "  <matplotlib.axis.XTick at 0x14f6c68beb0>,\n",
       "  <matplotlib.axis.XTick at 0x14f6c692400>,\n",
       "  <matplotlib.axis.XTick at 0x14f6c692910>,\n",
       "  <matplotlib.axis.XTick at 0x14f6c692e20>,\n",
       "  <matplotlib.axis.XTick at 0x14f6c699370>,\n",
       "  <matplotlib.axis.XTick at 0x14f6c692580>,\n",
       "  <matplotlib.axis.XTick at 0x14f6c68b610>],\n",
       " [Text(0, 0, ''),\n",
       "  Text(0, 0, ''),\n",
       "  Text(0, 0, ''),\n",
       "  Text(0, 0, ''),\n",
       "  Text(0, 0, ''),\n",
       "  Text(0, 0, ''),\n",
       "  Text(0, 0, ''),\n",
       "  Text(0, 0, ''),\n",
       "  Text(0, 0, ''),\n",
       "  Text(0, 0, ''),\n",
       "  Text(0, 0, ''),\n",
       "  Text(0, 0, ''),\n",
       "  Text(0, 0, '')])"
      ]
     },
     "execution_count": 20,
     "metadata": {},
     "output_type": "execute_result"
    },
    {
     "data": {
      "image/png": "[encoded data removed]",
      "text/plain": [
       "<Figure size 432x288 with 1 Axes>"
      ]
     },
     "metadata": {
      "needs_background": "light"
     },
     "output_type": "display_data"
    }
   ],
   "source": [
    "ax=plt.subplot(3,1,1)\n",
    "ax.grid() # turn on grid\n",
    "plt.plot(t,u,'b--',linewidth=3)\n",
    "plt.xlabel('Time (hrs)')\n",
    "plt.ylabel('Insulin Pump')\n",
    "plt.legend(['Insulin Injection (mU/min)'],loc='best')\n",
    "plt.xlim([0,24])\n",
    "plt.xticks(ticks)"
   ]
  },
  {
   "cell_type": "code",
   "execution_count": 21,
   "metadata": {},
   "outputs": [
    {
     "data": {
      "text/plain": [
       "<Figure size 432x288 with 0 Axes>"
      ]
     },
     "metadata": {},
     "output_type": "display_data"
    }
   ],
   "source": [
    "plt.figure(1)\n",
    "ticks = np.linspace(0,24,13)"
   ]
  },
  {
   "cell_type": "code",
   "execution_count": 22,
   "metadata": {},
   "outputs": [
    {
     "data": {
      "image/png": "[encoded data removed]",
      "text/plain": [
       "<Figure size 432x288 with 1 Axes>"
      ]
     },
     "metadata": {
      "needs_background": "light"
     },
     "output_type": "display_data"
    }
   ],
   "source": [
    "ax=plt.subplot(3,1,3)\n",
    "ax.grid() # turn on grid\n",
    "plt.plot(t,I,'k.-',linewidth=3,label='Insulin (mU/L)')\n",
    "plt.plot(t,X,'g:',linewidth=3,label='Remote Insulin (mU/L)')\n",
    "plt.ylabel('Insulin')\n",
    "plt.xlabel('Time (hr)')\n",
    "plt.xlim([0,24])\n",
    "plt.legend(loc='best')\n",
    "plt.xticks(ticks)\n",
    "\n",
    "plt.show()\n"
   ]
  },
  {
   "cell_type": "code",
   "execution_count": 23,
   "metadata": {},
   "outputs": [],
   "source": [
    "import pandas as pd\n",
    "import numpy as np\n",
    "import matplotlib.pyplot as plt\n",
    "%matplotlib inline\n",
    "import seaborn as sns\n",
    "import re\n",
    "\n",
    "from plotly.offline import iplot\n",
    "import plotly as py\n",
    "import plotly.tools as tls\n",
    "\n",
    "import pickle"
   ]
  },
  {
   "cell_type": "code",
   "execution_count": 24,
   "metadata": {},
   "outputs": [
    {
     "data": {
      "text/html": [
       "<div>\n",
       "<style scoped>\n",
       "    .dataframe tbody tr th:only-of-type {\n",
       "        vertical-align: middle;\n",
       "    }\n",
       "\n",
       "    .dataframe tbody tr th {\n",
       "        vertical-align: top;\n",
       "    }\n",
       "\n",
       "    .dataframe thead th {\n",
       "        text-align: right;\n",
       "    }\n",
       "</style>\n",
       "<table border=\"1\" class=\"dataframe\">\n",
       "  <thead>\n",
       "    <tr style=\"text-align: right;\">\n",
       "      <th></th>\n",
       "      <th>user</th>\n",
       "      <th>Time</th>\n",
       "      <th>BG</th>\n",
       "      <th>CGM</th>\n",
       "      <th>CHO</th>\n",
       "      <th>insulin</th>\n",
       "      <th>LBGI</th>\n",
       "      <th>HBGI</th>\n",
       "      <th>Risk</th>\n",
       "      <th>Recommendation</th>\n",
       "    </tr>\n",
       "  </thead>\n",
       "  <tbody>\n",
       "    <tr>\n",
       "      <th>0</th>\n",
       "      <td>1</td>\n",
       "      <td>12/31/2019 6:00</td>\n",
       "      <td>152.410000</td>\n",
       "      <td>174.787557</td>\n",
       "      <td>0.000000</td>\n",
       "      <td>0.0153</td>\n",
       "      <td>0.0</td>\n",
       "      <td>3.215327</td>\n",
       "      <td>3.215327</td>\n",
       "      <td>1.0</td>\n",
       "    </tr>\n",
       "    <tr>\n",
       "      <th>1</th>\n",
       "      <td>1</td>\n",
       "      <td>12/31/2019  8.00.00 AM</td>\n",
       "      <td>192.409910</td>\n",
       "      <td>147.265115</td>\n",
       "      <td>15.333333</td>\n",
       "      <td>0.0153</td>\n",
       "      <td>0.0</td>\n",
       "      <td>3.215315</td>\n",
       "      <td>5.215316</td>\n",
       "      <td>2.0</td>\n",
       "    </tr>\n",
       "    <tr>\n",
       "      <th>2</th>\n",
       "      <td>1</td>\n",
       "      <td>12/31/2019 6:00</td>\n",
       "      <td>152.409996</td>\n",
       "      <td>152.697123</td>\n",
       "      <td>0.000000</td>\n",
       "      <td>0.0153</td>\n",
       "      <td>0.0</td>\n",
       "      <td>3.215327</td>\n",
       "      <td>3.215327</td>\n",
       "      <td>1.0</td>\n",
       "    </tr>\n",
       "    <tr>\n",
       "      <th>3</th>\n",
       "      <td>1</td>\n",
       "      <td>12/31/2019 6:00</td>\n",
       "      <td>152.409994</td>\n",
       "      <td>149.272604</td>\n",
       "      <td>0.000000</td>\n",
       "      <td>0.0153</td>\n",
       "      <td>0.0</td>\n",
       "      <td>3.215326</td>\n",
       "      <td>3.215326</td>\n",
       "      <td>1.0</td>\n",
       "    </tr>\n",
       "    <tr>\n",
       "      <th>4</th>\n",
       "      <td>3</td>\n",
       "      <td>12/31/2019 7:00</td>\n",
       "      <td>72.409963</td>\n",
       "      <td>146.494981</td>\n",
       "      <td>0.000000</td>\n",
       "      <td>0.0153</td>\n",
       "      <td>0.0</td>\n",
       "      <td>3.215322</td>\n",
       "      <td>3.215322</td>\n",
       "      <td>0.0</td>\n",
       "    </tr>\n",
       "  </tbody>\n",
       "</table>\n",
       "</div>"
      ],
      "text/plain": [
       "  user                    Time          BG         CGM        CHO  insulin  \\\n",
       "0    1         12/31/2019 6:00  152.410000  174.787557   0.000000   0.0153   \n",
       "1    1  12/31/2019  8.00.00 AM  192.409910  147.265115  15.333333   0.0153   \n",
       "2    1         12/31/2019 6:00  152.409996  152.697123   0.000000   0.0153   \n",
       "3    1         12/31/2019 6:00  152.409994  149.272604   0.000000   0.0153   \n",
       "4    3         12/31/2019 7:00   72.409963  146.494981   0.000000   0.0153   \n",
       "\n",
       "   LBGI      HBGI      Risk  Recommendation  \n",
       "0   0.0  3.215327  3.215327             1.0  \n",
       "1   0.0  3.215315  5.215316             2.0  \n",
       "2   0.0  3.215327  3.215327             1.0  \n",
       "3   0.0  3.215326  3.215326             1.0  \n",
       "4   0.0  3.215322  3.215322             0.0  "
      ]
     },
     "execution_count": 24,
     "metadata": {},
     "output_type": "execute_result"
    }
   ],
   "source": [
    "df = pd.read_csv('data1.csv')\n",
    "df.head()"
   ]
  },
  {
   "cell_type": "code",
   "execution_count": 25,
   "metadata": {},
   "outputs": [
    {
     "data": {
      "image/png": "[encoded data removed]",
      "text/plain": [
       "<Figure size 432x288 with 1 Axes>"
      ]
     },
     "metadata": {
      "needs_background": "light"
     },
     "output_type": "display_data"
    }
   ],
   "source": [
    "F = df[df['Recommendation'] == 0.0].count()['Recommendation']\n",
    "M = df[df['Recommendation'] == 1.0].count()['Recommendation']\n",
    "N = df[df['Recommendation'] == 2.0].count()['Recommendation']\n",
    "\n",
    "# Create a plot\n",
    "figure, ax = plt.subplots(figsize = (6, 4))\n",
    "ax.bar(x = ['>70-50 (low risk)', '>50-30 (medium risk)','>30 (High risk)'], height = [F, M, N])\n",
    "plt.xlabel('Risk factors')\n",
    "plt.ylabel('Risk index level')\n",
    "plt.title('Hypoglycemia-Low level risk factors')\n",
    "plt.show()\n"
   ]
  },
  {
   "cell_type": "code",
   "execution_count": 26,
   "metadata": {},
   "outputs": [
    {
     "name": "stdout",
     "output_type": "stream",
     "text": [
      ">70-50  Low risk suggested to  take insulin/meals:  52.4099511\n",
      ">50-30 medium risk:  72.40996340000001\n",
      ">30 below severe risk factor-emergeny need:  64.40995054\n"
     ]
    }
   ],
   "source": [
    "print('>70-50  Low risk suggested to  take insulin/meals: ', min(df[df['Recommendation'] == 0]['BG']))\n",
    "print('>50-30 medium risk: ', max(df[df['Recommendation'] == 0]['BG']))\n",
    "print('>30 below severe risk factor-emergeny need: ', df[df['Recommendation'] == 0]['BG'].mean())"
   ]
  },
  {
   "cell_type": "code",
   "execution_count": 27,
   "metadata": {},
   "outputs": [
    {
     "data": {
      "image/png": "[encoded data removed]",
      "text/plain": [
       "<Figure size 432x288 with 1 Axes>"
      ]
     },
     "metadata": {
      "needs_background": "light"
     },
     "output_type": "display_data"
    }
   ],
   "source": [
    "Data = {'BG':[20,23,45,62,75,30,50],\n",
    "    'time':[2,4,6,8,10,20,24]\n",
    "     \n",
    "       }\n",
    "df = pd.DataFrame(Data)\n",
    "plt.plot(df['time'], df['BG'],color='blue',marker='o')\n",
    "plt.title('Hypoglycemia-Low level risk factors')\n",
    "plt.xlabel('time (hrs)')\n",
    "plt.ylabel(' Bg level')\n",
    "plt.grid(True)\n",
    "plt.show()"
   ]
  },
  {
   "cell_type": "code",
   "execution_count": 28,
   "metadata": {},
   "outputs": [
    {
     "data": {
      "image/png": "[encoded data removed]",
      "text/plain": [
       "<Figure size 432x288 with 1 Axes>"
      ]
     },
     "metadata": {
      "needs_background": "light"
     },
     "output_type": "display_data"
    }
   ],
   "source": [
    "Data = {'time':[2,4,7,8,10,14,24],\n",
    "        'BG' : [20,33,55,72,85,40,60]\n",
    "           }\n",
    "df = pd.DataFrame(Data)\n",
    "plt.plot(df['time'], df['BG'],color='red',marker='o')\n",
    "plt.title('Hypoglycemia-Low level risk factors')\n",
    "plt.xlabel('time (hrs)')\n",
    "plt.ylabel(' Bg level')\n",
    "plt.grid(True)\n",
    "plt.show()"
   ]
  },
  {
   "cell_type": "code",
   "execution_count": 29,
   "metadata": {},
   "outputs": [
    {
     "name": "stdout",
     "output_type": "stream",
     "text": [
      "alert the patient at 8am there may be a chance Hypo \"BG\" better to take insulin/sweet/meals\n"
     ]
    }
   ],
   "source": [
    "print('alert the patient at 8am there may be a chance Hypo \"BG\" better to take insulin/sweet/meals')"
   ]
  },
  {
   "cell_type": "code",
   "execution_count": 30,
   "metadata": {},
   "outputs": [
    {
     "data": {
      "text/html": [
       "<div>\n",
       "<style scoped>\n",
       "    .dataframe tbody tr th:only-of-type {\n",
       "        vertical-align: middle;\n",
       "    }\n",
       "\n",
       "    .dataframe tbody tr th {\n",
       "        vertical-align: top;\n",
       "    }\n",
       "\n",
       "    .dataframe thead th {\n",
       "        text-align: right;\n",
       "    }\n",
       "</style>\n",
       "<table border=\"1\" class=\"dataframe\">\n",
       "  <thead>\n",
       "    <tr style=\"text-align: right;\">\n",
       "      <th></th>\n",
       "      <th>user</th>\n",
       "      <th>Time</th>\n",
       "      <th>BG</th>\n",
       "      <th>CGM</th>\n",
       "      <th>CHO</th>\n",
       "      <th>insulin</th>\n",
       "      <th>LBGI</th>\n",
       "      <th>HBGI</th>\n",
       "      <th>Risk</th>\n",
       "      <th>Recommendation</th>\n",
       "    </tr>\n",
       "  </thead>\n",
       "  <tbody>\n",
       "    <tr>\n",
       "      <th>0</th>\n",
       "      <td>1</td>\n",
       "      <td>12/31/2019 6:00</td>\n",
       "      <td>152.410000</td>\n",
       "      <td>174.787557</td>\n",
       "      <td>0.000000</td>\n",
       "      <td>0.0153</td>\n",
       "      <td>0.0</td>\n",
       "      <td>3.215327</td>\n",
       "      <td>3.215327</td>\n",
       "      <td>1.0</td>\n",
       "    </tr>\n",
       "    <tr>\n",
       "      <th>1</th>\n",
       "      <td>1</td>\n",
       "      <td>12/31/2019  8.00.00 AM</td>\n",
       "      <td>192.409910</td>\n",
       "      <td>147.265115</td>\n",
       "      <td>15.333333</td>\n",
       "      <td>0.0153</td>\n",
       "      <td>0.0</td>\n",
       "      <td>3.215315</td>\n",
       "      <td>5.215316</td>\n",
       "      <td>2.0</td>\n",
       "    </tr>\n",
       "    <tr>\n",
       "      <th>2</th>\n",
       "      <td>1</td>\n",
       "      <td>12/31/2019 6:00</td>\n",
       "      <td>152.409996</td>\n",
       "      <td>152.697123</td>\n",
       "      <td>0.000000</td>\n",
       "      <td>0.0153</td>\n",
       "      <td>0.0</td>\n",
       "      <td>3.215327</td>\n",
       "      <td>3.215327</td>\n",
       "      <td>1.0</td>\n",
       "    </tr>\n",
       "    <tr>\n",
       "      <th>3</th>\n",
       "      <td>1</td>\n",
       "      <td>12/31/2019 6:00</td>\n",
       "      <td>152.409994</td>\n",
       "      <td>149.272604</td>\n",
       "      <td>0.000000</td>\n",
       "      <td>0.0153</td>\n",
       "      <td>0.0</td>\n",
       "      <td>3.215326</td>\n",
       "      <td>3.215326</td>\n",
       "      <td>1.0</td>\n",
       "    </tr>\n",
       "    <tr>\n",
       "      <th>4</th>\n",
       "      <td>3</td>\n",
       "      <td>12/31/2019 7:00</td>\n",
       "      <td>72.409963</td>\n",
       "      <td>146.494981</td>\n",
       "      <td>0.000000</td>\n",
       "      <td>0.0153</td>\n",
       "      <td>0.0</td>\n",
       "      <td>3.215322</td>\n",
       "      <td>3.215322</td>\n",
       "      <td>0.0</td>\n",
       "    </tr>\n",
       "  </tbody>\n",
       "</table>\n",
       "</div>"
      ],
      "text/plain": [
       "  user                    Time          BG         CGM        CHO  insulin  \\\n",
       "0    1         12/31/2019 6:00  152.410000  174.787557   0.000000   0.0153   \n",
       "1    1  12/31/2019  8.00.00 AM  192.409910  147.265115  15.333333   0.0153   \n",
       "2    1         12/31/2019 6:00  152.409996  152.697123   0.000000   0.0153   \n",
       "3    1         12/31/2019 6:00  152.409994  149.272604   0.000000   0.0153   \n",
       "4    3         12/31/2019 7:00   72.409963  146.494981   0.000000   0.0153   \n",
       "\n",
       "   LBGI      HBGI      Risk  Recommendation  \n",
       "0   0.0  3.215327  3.215327             1.0  \n",
       "1   0.0  3.215315  5.215316             2.0  \n",
       "2   0.0  3.215327  3.215327             1.0  \n",
       "3   0.0  3.215326  3.215326             1.0  \n",
       "4   0.0  3.215322  3.215322             0.0  "
      ]
     },
     "execution_count": 30,
     "metadata": {},
     "output_type": "execute_result"
    }
   ],
   "source": [
    "df = pd.read_csv('data1.csv')\n",
    "df.head()"
   ]
  },
  {
   "cell_type": "code",
   "execution_count": 31,
   "metadata": {},
   "outputs": [
    {
     "data": {
      "image/png": "[encoded data removed]",
      "text/plain": [
       "<Figure size 432x288 with 1 Axes>"
      ]
     },
     "metadata": {
      "needs_background": "light"
     },
     "output_type": "display_data"
    }
   ],
   "source": [
    "F = df[df['Recommendation'] == 0.0].count()['Recommendation']\n",
    "M = df[df['Recommendation'] == 1.0].count()['Recommendation']\n",
    "N = df[df['Recommendation'] == 2.0].count()['Recommendation']\n",
    "figure, ax = plt.subplots(figsize = (6, 4))\n",
    "ax.bar(x= ['<180-250 (low risk)', '<250-280 (medium risk)','>260 (High risk)'], height = [F, M, N])\n",
    "plt.xlabel('Risk Factors')\n",
    "plt.ylabel('Risk index level')\n",
    "plt.title('Hyperglycemia-High level risk factors')\n",
    "plt.show()"
   ]
  },
  {
   "cell_type": "code",
   "execution_count": 33,
   "metadata": {},
   "outputs": [
    {
     "name": "stdout",
     "output_type": "stream",
     "text": [
      "<180-250 (low risk) suggested to  take insulin/meals:  52.4099511\n",
      "<250-280 (medium risk):  310.60922769999996\n",
      ">260 (High risk):  64.40995054\n"
     ]
    }
   ],
   "source": [
    "print('<180-250 (low risk) suggested to  take insulin/meals: ', min(df[df['Recommendation'] == 0]['BG']))\n",
    "print('<250-280 (medium risk): ', max(df[df['Recommendation'] == 1]['BG']))\n",
    "print('>260 (High risk): ', df[df['Recommendation'] == 0]['BG'].mean())"
   ]
  },
  {
   "cell_type": "code",
   "execution_count": 34,
   "metadata": {},
   "outputs": [
    {
     "data": {
      "image/png": "[encoded data removed]",
      "text/plain": [
       "<Figure size 432x288 with 1 Axes>"
      ]
     },
     "metadata": {
      "needs_background": "light"
     },
     "output_type": "display_data"
    }
   ],
   "source": [
    "Data = {'time':[2,4,6,8,10,20,24],\n",
    "     'BG':[80,100,150,190,250,60,70]\n",
    "       \n",
    "       }\n",
    "df = pd.DataFrame(Data)\n",
    "plt.plot(df['time'], df['BG'],color='pink',marker='o')\n",
    "plt.title('Hyperglycemia-High level risk factors')\n",
    "plt.xlabel('time(hrs)')\n",
    "plt.ylabel('BG level')\n",
    "plt.grid(True)\n",
    "plt.show()"
   ]
  },
  {
   "cell_type": "code",
   "execution_count": 35,
   "metadata": {},
   "outputs": [
    {
     "data": {
      "image/png": "[encoded data removed]",
      "text/plain": [
       "<Figure size 432x288 with 1 Axes>"
      ]
     },
     "metadata": {
      "needs_background": "light"
     },
     "output_type": "display_data"
    }
   ],
   "source": [
    "Data = {'time':[2,4,7,8,12,14,24],\n",
    "        'BG' : [80,100,150,190,250,60,70]\n",
    "           }\n",
    "df = pd.DataFrame(Data)\n",
    "plt.plot(df['time'], df['BG'],color='red',marker='o')\n",
    "plt.title('Hypoglycemia-Low level risk factors')\n",
    "plt.xlabel('time (hrs)')\n",
    "plt.ylabel(' Bg level')\n",
    "plt.grid(True)\n",
    "plt.show()"
   ]
  },
  {
   "cell_type": "code",
   "execution_count": 36,
   "metadata": {},
   "outputs": [
    {
     "name": "stdout",
     "output_type": "stream",
     "text": [
      "alert the patient at 12am there may be a chance Hyper \"BG\" better to take insulin/sweet/meals\n"
     ]
    }
   ],
   "source": [
    "print('alert the patient at 12am there may be a chance Hyper \"BG\" better to take insulin/sweet/meals')"
   ]
  },
  {
   "cell_type": "code",
   "execution_count": 37,
   "metadata": {},
   "outputs": [
    {
     "data": {
      "text/plain": [
       "tensorflow_estimator.python.estimator.canned.dnn.DNNClassifierV2"
      ]
     },
     "execution_count": 37,
     "metadata": {},
     "output_type": "execute_result"
    }
   ],
   "source": [
    "import tensorflow as tf\n",
    "tf.estimator.DNNClassifier"
   ]
  },
  {
   "cell_type": "code",
   "execution_count": 51,
   "metadata": {},
   "outputs": [],
   "source": [
    "n_test = 500\n",
    "trainX, testX = X[:n_test, :], X[n_test:, :]\n",
    "trainy, testy = y[:n_test], y[n_test:]"
   ]
  },
  {
   "cell_type": "code",
   "execution_count": 52,
   "metadata": {},
   "outputs": [],
   "source": [
    "model = Sequential()\n",
    "model.add(Dense(100, input_dim=2, activation='relu'))\n",
    "model.add(Dense(1, activation='sigmoid'))"
   ]
  },
  {
   "cell_type": "code",
   "execution_count": 53,
   "metadata": {},
   "outputs": [],
   "source": [
    "model.compile(loss='binary_crossentropy', optimizer='adam', metrics=['accuracy'])"
   ]
  },
  {
   "cell_type": "code",
   "execution_count": 54,
   "metadata": {},
   "outputs": [],
   "source": [
    "def get_data():\n",
    "\tX, y = make_circles(n_samples=1000, noise=0.1, random_state=1)\n",
    "\tn_test = 500\n",
    "\ttrainX, testX = X[:n_test, :], X[n_test:, :]\n",
    "\ttrainy, testy = y[:n_test], y[n_test:]\n",
    "\treturn trainX, trainy, testX, testy"
   ]
  },
  {
   "cell_type": "code",
   "execution_count": 55,
   "metadata": {},
   "outputs": [],
   "source": [
    "def get_model(trainX, trainy):\n",
    "\tmodel = Sequential()\n",
    "\tmodel.add(Dense(100, input_dim=2, activation='relu'))\n",
    "\tmodel.add(Dense(1, activation='sigmoid'))\n",
    "\tmodel.compile(loss='binary_crossentropy', optimizer='adam', metrics=['accuracy'])\n",
    "\tmodel.fit(trainX, trainy, epochs=300, verbose=0)\n",
    "\treturn model"
   ]
  },
  {
   "cell_type": "code",
   "execution_count": 56,
   "metadata": {},
   "outputs": [],
   "source": [
    "# generate data\n",
    "trainX, trainy, testX, testy = get_data()\n",
    "# fit model\n",
    "model = get_model(trainX, trainy)\n",
    "trainX, trainy, testX, testy = get_data()\n",
    "# fit model\n",
    "model = get_model(trainX, trainy)"
   ]
  },
  {
   "cell_type": "code",
   "execution_count": 57,
   "metadata": {},
   "outputs": [
    {
     "name": "stdout",
     "output_type": "stream",
     "text": [
      "Train: 0.834, Test: 0.854\n"
     ]
    },
    {
     "data": {
      "image/png": "[encoded data removed]",
      "text/plain": [
       "<Figure size 432x288 with 2 Axes>"
      ]
     },
     "metadata": {
      "needs_background": "light"
     },
     "output_type": "display_data"
    }
   ],
   "source": [
    "from sklearn.datasets import make_circles\n",
    "from keras.models import Sequential\n",
    "from keras.layers import Dense\n",
    "from matplotlib import pyplot\n",
    "X, y = make_circles(n_samples=1000, noise=0.1, random_state=1)\n",
    "n_test = 500\n",
    "trainX, testX = X[:n_test, :], X[n_test:, :]\n",
    "trainy, testy = y[:n_test], y[n_test:]\n",
    "model = Sequential()\n",
    "model.add(Dense(100, input_dim=2, activation='relu'))\n",
    "model.add(Dense(1, activation='sigmoid'))\n",
    "model.compile(loss='binary_crossentropy', optimizer='adam', metrics=['accuracy'])\n",
    "history = model.fit(trainX, trainy, validation_data=(testX, testy), epochs=300, verbose=0)\n",
    "_, train_acc = model.evaluate(trainX, trainy, verbose=0)\n",
    "_, test_acc = model.evaluate(testX, testy, verbose=0)\n",
    "print('Train: %.3f, Test: %.3f' % (train_acc, test_acc))\n",
    "pyplot.subplot(211)\n",
    "pyplot.title('Loss')\n",
    "pyplot.plot(history.history['loss'], label='train')\n",
    "pyplot.plot(history.history['val_loss'], label='test')\n",
    "pyplot.legend()\n",
    "pyplot.subplot(212)\n",
    "pyplot.title('Accuracy')\n",
    "pyplot.plot(history.history['accuracy'], label='train')\n",
    "pyplot.plot(history.history['val_accuracy'], label='test')\n",
    "pyplot.legend()\n",
    "pyplot.show()"
   ]
  },
  {
   "cell_type": "code",
   "execution_count": 58,
   "metadata": {},
   "outputs": [
    {
     "name": "stdout",
     "output_type": "stream",
     "text": [
      "Accuracy: 0.852000\n",
      "Precision: 0.858871\n",
      "Recall: 0.845238\n",
      "F1 score: 0.852000\n",
      "ROC AUC: 0.924667\n",
      "[[213  35]\n",
      " [ 39 213]]\n"
     ]
    },
    {
     "name": "stderr",
     "output_type": "stream",
     "text": [
      "C:\\Users\\Uniso PC\\AppData\\Roaming\\Python\\Python38\\site-packages\\tensorflow\\python\\keras\\engine\\sequential.py:450: UserWarning:\n",
      "\n",
      "`model.predict_classes()` is deprecated and will be removed after 2021-01-01. Please use instead:* `np.argmax(model.predict(x), axis=-1)`,   if your model does multi-class classification   (e.g. if it uses a `softmax` last-layer activation).* `(model.predict(x) > 0.5).astype(\"int32\")`,   if your model does binary classification   (e.g. if it uses a `sigmoid` last-layer activation).\n",
      "\n"
     ]
    }
   ],
   "source": [
    "from sklearn.datasets import make_circles\n",
    "from sklearn.metrics import accuracy_score\n",
    "from sklearn.metrics import precision_score\n",
    "from sklearn.metrics import recall_score\n",
    "from sklearn.metrics import f1_score\n",
    "from sklearn.metrics import roc_auc_score\n",
    "from sklearn.metrics import confusion_matrix\n",
    "from keras.models import Sequential\n",
    "from keras.layers import Dense\n",
    "def get_data():\n",
    "\tX, y = make_circles(n_samples=1000, noise=0.1, random_state=1)\n",
    "\tn_test = 500\n",
    "\ttrainX, testX = X[:n_test, :], X[n_test:, :]\n",
    "\ttrainy, testy = y[:n_test], y[n_test:]\n",
    "\treturn trainX, trainy, testX, testy\n",
    " \n",
    "\n",
    "def get_model(trainX, trainy):\n",
    "\n",
    "\tmodel = Sequential()\n",
    "\tmodel.add(Dense(100, input_dim=2, activation='relu'))\n",
    "\tmodel.add(Dense(1, activation='sigmoid'))\n",
    "\tmodel.compile(loss='binary_crossentropy', optimizer='adam', metrics=['accuracy'])\n",
    "\tmodel.fit(trainX, trainy, epochs=300, verbose=0)\n",
    "\treturn model\n",
    "trainX, trainy, testX, testy = get_data()\n",
    "\n",
    "model = get_model(trainX, trainy)\n",
    "yhat_probs = model.predict(testX, verbose=0)\n",
    "yhat_classes = model.predict_classes(testX, verbose=0)\n",
    "yhat_probs = yhat_probs[:, 0]\n",
    "yhat_classes = yhat_classes[:, 0]\n",
    " \n",
    "# accuracy: (tp + tn) / (p + n)\n",
    "accuracy = accuracy_score(testy, yhat_classes)\n",
    "print('Accuracy: %f' % accuracy)\n",
    "# precision tp / (tp + fp)\n",
    "precision = precision_score(testy, yhat_classes)\n",
    "print('Precision: %f' % precision)\n",
    "# recall: tp / (tp + fn)\n",
    "recall = recall_score(testy, yhat_classes)\n",
    "print('Recall: %f' % recall)\n",
    "# f1: 2 tp / (2 tp + fp + fn)\n",
    "f1 = f1_score(testy, yhat_classes)\n",
    "print('F1 score: %f' % f1)\n",
    " \n",
    "\n",
    "auc = roc_auc_score(testy, yhat_probs)\n",
    "print('ROC AUC: %f' % auc)\n",
    "# confusion matrix\n",
    "matrix = confusion_matrix(testy, yhat_classes)\n",
    "print(matrix)"
   ]
  },
  {
   "cell_type": "code",
   "execution_count": null,
   "metadata": {},
   "outputs": [],
   "source": []
  }
 ],
 "metadata": {
  "kernelspec": {
   "display_name": "Python 3",
   "language": "python",
   "name": "python3"
  },
  "language_info": {
   "codemirror_mode": {
    "name": "ipython",
    "version": 3
   },
   "file_extension": ".py",
   "mimetype": "text/x-python",
   "name": "python",
   "nbconvert_exporter": "python",
   "pygments_lexer": "ipython3",
   "version": "3.8.5"
  }
 },
 "nbformat": 4,
 "nbformat_minor": 4
}
